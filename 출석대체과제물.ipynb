{
  "nbformat": 4,
  "nbformat_minor": 0,
  "metadata": {
    "colab": {
      "provenance": [],
      "authorship_tag": "ABX9TyOLu/WjX5nBucqMt6cxQRAL",
      "include_colab_link": true
    },
    "kernelspec": {
      "name": "python3",
      "display_name": "Python 3"
    },
    "language_info": {
      "name": "python"
    }
  },
  "cells": [
    {
      "cell_type": "markdown",
      "metadata": {
        "id": "view-in-github",
        "colab_type": "text"
      },
      "source": [
        "<a href=\"https://colab.research.google.com/github/sonstick/KNOU_Python-Programming/blob/main/%EC%B6%9C%EC%84%9D%EB%8C%80%EC%B2%B4%EA%B3%BC%EC%A0%9C%EB%AC%BC.ipynb\" target=\"_parent\"><img src=\"https://colab.research.google.com/assets/colab-badge.svg\" alt=\"Open In Colab\"/></a>"
      ]
    },
    {
      "cell_type": "markdown",
      "source": [
        "표 출력"
      ],
      "metadata": {
        "id": "k2DuvjDlHoFh"
      }
    },
    {
      "cell_type": "code",
      "execution_count": null,
      "metadata": {
        "colab": {
          "base_uri": "https://localhost:8080/"
        },
        "id": "0mJmTEDz6WpE",
        "outputId": "627bb751-44b7-4ba2-cbd1-5c0dfaa27b76"
      },
      "outputs": [
        {
          "output_type": "stream",
          "name": "stdout",
          "text": [
            "n      n**2    n**3\n",
            "===================\n",
            "1        1        1\n",
            "3        9       27\n",
            "5       25      125\n",
            "7       49      343\n"
          ]
        }
      ],
      "source": [
        "print(\"n\", \"     n**2\", \"   n**3\")\n",
        "print(\"===================\")\n",
        "n = 1\n",
        "print(n, end = \"\")\n",
        "print(format(n**2, \">9d\"), end = \"\")\n",
        "print(format(n**3, \">9d\"))\n",
        "n = 3\n",
        "print(n, end = \"\")\n",
        "print(format(n**2, \">9d\"), end = \"\")\n",
        "print(format(n**3, \">9d\"))\n",
        "n = 5\n",
        "print(n, end = \"\")\n",
        "print(format(n**2, \">9d\"), end = \"\")\n",
        "print(format(n**3, \">9d\"))\n",
        "n = 7\n",
        "print(n, end = \"\")\n",
        "print(format(n**2, \">9d\"), end = \"\")\n",
        "print(format(n**3, \">9d\"))"
      ]
    },
    {
      "cell_type": "code",
      "source": [
        "def calc(n) :\n",
        "    print(n, end = \"\")\n",
        "    print(format(n**2, \">9d\"), end = \"\")\n",
        "    print(format(n**3, \">9d\"))\n",
        "print(\"n\", \"     n**2\", \"   n**3\")\n",
        "print(\"===================\")\n",
        "calc(1)\n",
        "calc(3)\n",
        "calc(5)\n",
        "calc(7)"
      ],
      "metadata": {
        "colab": {
          "base_uri": "https://localhost:8080/"
        },
        "id": "tc-tYBHnGqn-",
        "outputId": "3100ca93-b4bd-45ba-8dcd-1e5bc871beef"
      },
      "execution_count": null,
      "outputs": [
        {
          "output_type": "stream",
          "name": "stdout",
          "text": [
            "n      n**2    n**3\n",
            "===================\n",
            "1        1        1\n",
            "3        9       27\n",
            "5       25      125\n",
            "7       49      343\n"
          ]
        }
      ]
    },
    {
      "cell_type": "code",
      "source": [
        "print(\"n\", \"    n**2\", \"   n**3\")\n",
        "print(\"===================\")\n",
        "for i in range(1, 8, 2) :\n",
        "    print(format(i), end = \"\")    \n",
        "    for j in range(1, 2) :\n",
        "        print(format(i**2, \">9d\"), end = \"\")\n",
        "        print(format(i**3, \">9d\"), end = \"\")\n",
        "    print()"
      ],
      "metadata": {
        "colab": {
          "base_uri": "https://localhost:8080/"
        },
        "id": "gtn26fQm7dAp",
        "outputId": "dd2efbac-38af-4fd6-c746-265329cc0d1f"
      },
      "execution_count": null,
      "outputs": [
        {
          "output_type": "stream",
          "name": "stdout",
          "text": [
            "n      n**2    n**3\n",
            "===================\n",
            "1        1        1\n",
            "3        9       27\n",
            "5       25      125\n",
            "7       49      343\n"
          ]
        }
      ]
    },
    {
      "cell_type": "markdown",
      "source": [
        "성적 출력"
      ],
      "metadata": {
        "id": "7cj747MPHrxT"
      }
    },
    {
      "cell_type": "code",
      "source": [
        "score = int(input(\"점수를 입력하세요: \"))\n",
        "if score <= 100 and score > 0:\n",
        "    if score >= 90:\n",
        "        print(\"A입니다.\")\n",
        "    elif score >=80:\n",
        "        print(\"B입니다.\")\n",
        "    elif score >=70:\n",
        "        print(\"C입니다.\")\n",
        "    elif score >=60:\n",
        "        print(\"D입니다.\")\n",
        "    else:\n",
        "        print(\"F입니다.\")\n",
        "else:\n",
        "    print(\"잘못된 점수입니다.\")"
      ],
      "metadata": {
        "colab": {
          "base_uri": "https://localhost:8080/"
        },
        "id": "f61NXPRsDwZp",
        "outputId": "5058242d-e83d-47f7-e87b-b26d3db14c1c"
      },
      "execution_count": null,
      "outputs": [
        {
          "output_type": "stream",
          "name": "stdout",
          "text": [
            "점수를 입력하세요: -3\n",
            "잘못된 점수입니다.\n"
          ]
        }
      ]
    }
  ]
}